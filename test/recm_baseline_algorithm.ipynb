{
 "cells": [
  {
   "cell_type": "code",
   "execution_count": 1,
   "metadata": {
    "collapsed": true
   },
   "outputs": [],
   "source": [
    "import sys\n",
    "sys.path.append(\"./sktnb_code_challenge/ttuckbaegi3/metrics\")\n",
    "import pandas as pd"
   ]
  },
  {
   "cell_type": "code",
   "execution_count": 2,
   "metadata": {},
   "outputs": [
    {
     "name": "stdout",
     "output_type": "stream",
     "text": [
      "<class 'pandas.core.frame.DataFrame'>\n",
      "RangeIndex: 393187 entries, 0 to 393186\n",
      "Data columns (total 2 columns):\n",
      "USER_ID       393187 non-null int64\n",
      "movie_list    393187 non-null object\n",
      "dtypes: int64(1), object(1)\n",
      "memory usage: 6.0+ MB\n"
     ]
    }
   ],
   "source": [
    "df = pd.read_csv('movie_list_label.tsv',sep='\\t')\n",
    "df.info()"
   ]
  },
  {
   "cell_type": "code",
   "execution_count": 3,
   "metadata": {},
   "outputs": [
    {
     "data": {
      "text/html": [
       "<div>\n",
       "<style>\n",
       "    .dataframe thead tr:only-child th {\n",
       "        text-align: right;\n",
       "    }\n",
       "\n",
       "    .dataframe thead th {\n",
       "        text-align: left;\n",
       "    }\n",
       "\n",
       "    .dataframe tbody tr th {\n",
       "        vertical-align: top;\n",
       "    }\n",
       "</style>\n",
       "<table border=\"1\" class=\"dataframe\">\n",
       "  <thead>\n",
       "    <tr style=\"text-align: right;\">\n",
       "      <th></th>\n",
       "      <th>USER_ID</th>\n",
       "      <th>movie_list</th>\n",
       "    </tr>\n",
       "  </thead>\n",
       "  <tbody>\n",
       "    <tr>\n",
       "      <th>0</th>\n",
       "      <td>97140</td>\n",
       "      <td>[2085, 3754, 1057, 1068, 2034, 8032, 3851, 265...</td>\n",
       "    </tr>\n",
       "    <tr>\n",
       "      <th>1</th>\n",
       "      <td>176329</td>\n",
       "      <td>[4155, 1720, 6561, 7441, 5026, 3262, 29, 7693,...</td>\n",
       "    </tr>\n",
       "    <tr>\n",
       "      <th>2</th>\n",
       "      <td>184938</td>\n",
       "      <td>[7382, 1520, 3705, 6024, 8084, 2420, 8158, 200...</td>\n",
       "    </tr>\n",
       "    <tr>\n",
       "      <th>3</th>\n",
       "      <td>162887</td>\n",
       "      <td>[3477, 829, 3549, 4007, 5354, 5199, 2537, 2658...</td>\n",
       "    </tr>\n",
       "    <tr>\n",
       "      <th>4</th>\n",
       "      <td>327858</td>\n",
       "      <td>[845, 6428, 4820, 28, 8075, 3987, 1697, 364, 6...</td>\n",
       "    </tr>\n",
       "  </tbody>\n",
       "</table>\n",
       "</div>"
      ],
      "text/plain": [
       "   USER_ID                                         movie_list\n",
       "0    97140  [2085, 3754, 1057, 1068, 2034, 8032, 3851, 265...\n",
       "1   176329  [4155, 1720, 6561, 7441, 5026, 3262, 29, 7693,...\n",
       "2   184938  [7382, 1520, 3705, 6024, 8084, 2420, 8158, 200...\n",
       "3   162887  [3477, 829, 3549, 4007, 5354, 5199, 2537, 2658...\n",
       "4   327858  [845, 6428, 4820, 28, 8075, 3987, 1697, 364, 6..."
      ]
     },
     "execution_count": 3,
     "metadata": {},
     "output_type": "execute_result"
    }
   ],
   "source": [
    "df.head()"
   ]
  },
  {
   "cell_type": "code",
   "execution_count": 4,
   "metadata": {},
   "outputs": [],
   "source": [
    "def str2list(x):\n",
    "    return list(map(int, x.replace('[','')\\\n",
    "                          .replace(']','')\\\n",
    "                          .replace(' ','')\\\n",
    "                          .split(',')))"
   ]
  },
  {
   "cell_type": "code",
   "execution_count": 5,
   "metadata": {
    "scrolled": true
   },
   "outputs": [
    {
     "data": {
      "text/plain": [
       "[2085,\n",
       " 3754,\n",
       " 1057,\n",
       " 1068,\n",
       " 2034,\n",
       " 8032,\n",
       " 3851,\n",
       " 2658,\n",
       " 2895,\n",
       " 1566,\n",
       " 5533,\n",
       " 1559,\n",
       " 1032,\n",
       " 3956,\n",
       " 4949,\n",
       " 845,\n",
       " 1371,\n",
       " 3987,\n",
       " 6290,\n",
       " 1645,\n",
       " 5026,\n",
       " 3574,\n",
       " 5382,\n",
       " 7864,\n",
       " 1400,\n",
       " 7824,\n",
       " 5775,\n",
       " 1330,\n",
       " 2119,\n",
       " 2229,\n",
       " 6411]"
      ]
     },
     "execution_count": 5,
     "metadata": {},
     "output_type": "execute_result"
    }
   ],
   "source": [
    "str2list(df.iloc[0]['movie_list'])"
   ]
  },
  {
   "cell_type": "code",
   "execution_count": 6,
   "metadata": {},
   "outputs": [
    {
     "name": "stdout",
     "output_type": "stream",
     "text": [
      "CPU times: user 2.44 s, sys: 96 ms, total: 2.54 s\n",
      "Wall time: 2.54 s\n"
     ]
    }
   ],
   "source": [
    "%%time\n",
    "df['movie_list'] = df['movie_list'].apply(str2list)\n",
    "df['movie_list_len'] = df['movie_list'].apply(len)"
   ]
  },
  {
   "cell_type": "code",
   "execution_count": 7,
   "metadata": {},
   "outputs": [
    {
     "data": {
      "text/html": [
       "<div>\n",
       "<style>\n",
       "    .dataframe thead tr:only-child th {\n",
       "        text-align: right;\n",
       "    }\n",
       "\n",
       "    .dataframe thead th {\n",
       "        text-align: left;\n",
       "    }\n",
       "\n",
       "    .dataframe tbody tr th {\n",
       "        vertical-align: top;\n",
       "    }\n",
       "</style>\n",
       "<table border=\"1\" class=\"dataframe\">\n",
       "  <thead>\n",
       "    <tr style=\"text-align: right;\">\n",
       "      <th></th>\n",
       "      <th>USER_ID</th>\n",
       "      <th>movie_list</th>\n",
       "      <th>movie_list_len</th>\n",
       "    </tr>\n",
       "  </thead>\n",
       "  <tbody>\n",
       "    <tr>\n",
       "      <th>0</th>\n",
       "      <td>97140</td>\n",
       "      <td>[2085, 3754, 1057, 1068, 2034, 8032, 3851, 265...</td>\n",
       "      <td>31</td>\n",
       "    </tr>\n",
       "    <tr>\n",
       "      <th>1</th>\n",
       "      <td>176329</td>\n",
       "      <td>[4155, 1720, 6561, 7441, 5026, 3262, 29, 7693,...</td>\n",
       "      <td>28</td>\n",
       "    </tr>\n",
       "    <tr>\n",
       "      <th>2</th>\n",
       "      <td>184938</td>\n",
       "      <td>[7382, 1520, 3705, 6024, 8084, 2420, 8158, 200...</td>\n",
       "      <td>31</td>\n",
       "    </tr>\n",
       "    <tr>\n",
       "      <th>3</th>\n",
       "      <td>162887</td>\n",
       "      <td>[3477, 829, 3549, 4007, 5354, 5199, 2537, 2658...</td>\n",
       "      <td>26</td>\n",
       "    </tr>\n",
       "    <tr>\n",
       "      <th>4</th>\n",
       "      <td>327858</td>\n",
       "      <td>[845, 6428, 4820, 28, 8075, 3987, 1697, 364, 6...</td>\n",
       "      <td>26</td>\n",
       "    </tr>\n",
       "  </tbody>\n",
       "</table>\n",
       "</div>"
      ],
      "text/plain": [
       "   USER_ID                                         movie_list  movie_list_len\n",
       "0    97140  [2085, 3754, 1057, 1068, 2034, 8032, 3851, 265...              31\n",
       "1   176329  [4155, 1720, 6561, 7441, 5026, 3262, 29, 7693,...              28\n",
       "2   184938  [7382, 1520, 3705, 6024, 8084, 2420, 8158, 200...              31\n",
       "3   162887  [3477, 829, 3549, 4007, 5354, 5199, 2537, 2658...              26\n",
       "4   327858  [845, 6428, 4820, 28, 8075, 3987, 1697, 364, 6...              26"
      ]
     },
     "execution_count": 7,
     "metadata": {},
     "output_type": "execute_result"
    }
   ],
   "source": [
    "df.head()"
   ]
  },
  {
   "cell_type": "code",
   "execution_count": 8,
   "metadata": {},
   "outputs": [
    {
     "name": "stdout",
     "output_type": "stream",
     "text": [
      "<class 'pandas.core.frame.DataFrame'>\n",
      "RangeIndex: 15823019 entries, 0 to 15823018\n",
      "Data columns (total 5 columns):\n",
      "USER_ID      int64\n",
      "MOVIE_ID     int64\n",
      "DURATION     int64\n",
      "WATCH_DAY    int64\n",
      "WATCH_SEQ    int64\n",
      "dtypes: int64(5)\n",
      "memory usage: 603.6 MB\n"
     ]
    }
   ],
   "source": [
    "user_hist = pd.read_csv('./KISA_TBC_VIEWS.csv_team11')\n",
    "user_hist.info()"
   ]
  },
  {
   "cell_type": "markdown",
   "metadata": {},
   "source": [
    "### user_id 기반 k-fold"
   ]
  },
  {
   "cell_type": "code",
   "execution_count": 9,
   "metadata": {
    "collapsed": true
   },
   "outputs": [],
   "source": [
    "import time"
   ]
  },
  {
   "cell_type": "code",
   "execution_count": 10,
   "metadata": {
    "collapsed": true
   },
   "outputs": [],
   "source": [
    "from sklearn.model_selection import train_test_split\n",
    "from average_precision import mapk"
   ]
  },
  {
   "cell_type": "code",
   "execution_count": 12,
   "metadata": {},
   "outputs": [
    {
     "name": "stdout",
     "output_type": "stream",
     "text": [
      "0 0.137082397249\n",
      "1 0.136458182483\n",
      "2 0.137659730934\n",
      "3 0.136775422347\n",
      "4 0.136086469884\n",
      "mean: 0.136812440579\n",
      "CPU times: user 26.1 s, sys: 3.87 s, total: 30 s\n",
      "Wall time: 30 s\n"
     ]
    }
   ],
   "source": [
    "%%time\n",
    "\n",
    "k = 5\n",
    "results = []\n",
    "for i in range(k):\n",
    "    train, test = train_test_split(df,test_size=0.2, random_state=int(time.time()))\n",
    "    train_user_hist = user_hist.merge(train, left_on='USER_ID', right_on='USER_ID', how='inner')\n",
    "    answer = train_user_hist['MOVIE_ID'].value_counts()[:50].index.tolist()\n",
    "    \n",
    "    actual = test['movie_list'].tolist()\n",
    "    predicted = [answer]*len(test)\n",
    "    \n",
    "    mapk50 = mapk(actual, predicted,k=50)\n",
    "    results.append(mapk50)\n",
    "    print(i, mapk50)\n",
    "    \n",
    "print('mean:',np.mean(results))"
   ]
  },
  {
   "cell_type": "code",
   "execution_count": null,
   "metadata": {
    "collapsed": true
   },
   "outputs": [],
   "source": []
  }
 ],
 "metadata": {
  "kernelspec": {
   "display_name": "Python 3",
   "language": "python",
   "name": "python3"
  },
  "language_info": {
   "codemirror_mode": {
    "name": "ipython",
    "version": 3
   },
   "file_extension": ".py",
   "mimetype": "text/x-python",
   "name": "python",
   "nbconvert_exporter": "python",
   "pygments_lexer": "ipython3",
   "version": "3.5.3"
  }
 },
 "nbformat": 4,
 "nbformat_minor": 2
}
