{
 "cells": [
  {
   "cell_type": "code",
   "execution_count": 1,
   "metadata": {},
   "outputs": [
    {
     "name": "stderr",
     "output_type": "stream",
     "text": [
      "/home/ubuntu/anaconda3/envs/tensorflow_p36/lib/python3.6/site-packages/matplotlib/__init__.py:1067: UserWarning: Duplicate key in file \"/home/ubuntu/.config/matplotlib/matplotlibrc\", line #2\n",
      "  (fname, cnt))\n",
      "/home/ubuntu/anaconda3/envs/tensorflow_p36/lib/python3.6/site-packages/matplotlib/__init__.py:1067: UserWarning: Duplicate key in file \"/home/ubuntu/.config/matplotlib/matplotlibrc\", line #3\n",
      "  (fname, cnt))\n",
      "/home/ubuntu/anaconda3/envs/tensorflow_p36/lib/python3.6/site-packages/h5py/__init__.py:36: FutureWarning: Conversion of the second argument of issubdtype from `float` to `np.floating` is deprecated. In future, it will be treated as `np.float64 == np.dtype(float).type`.\n",
      "  from ._conv import register_converters as _register_converters\n",
      "Using TensorFlow backend.\n"
     ]
    }
   ],
   "source": [
    "import pandas as pd\n",
    "import glob\n",
    "import time\n",
    "from sklearn.preprocessing import LabelEncoder, OneHotEncoder\n",
    "from keras.utils import np_utils\n",
    "import keras"
   ]
  },
  {
   "cell_type": "code",
   "execution_count": 2,
   "metadata": {},
   "outputs": [],
   "source": [
    "import sys\n",
    "import numpy as np\n",
    "sys.path.append('..')\n",
    "from multivar_lstm.models import baseline_model\n",
    "from multivar_lstm.lstm_data_generator import get_lstm_sub_data"
   ]
  },
  {
   "cell_type": "code",
   "execution_count": 3,
   "metadata": {},
   "outputs": [],
   "source": [
    "from gensim.models import Word2Vec"
   ]
  },
  {
   "cell_type": "code",
   "execution_count": 4,
   "metadata": {},
   "outputs": [],
   "source": [
    "def strtuple2arr(x):\n",
    "    return np.array(x.replace('(', '').replace(')', '').split(','), dtype=np.float32)"
   ]
  },
  {
   "cell_type": "code",
   "execution_count": 5,
   "metadata": {},
   "outputs": [],
   "source": [
    "modelpath = \"./multivar_lstm/movie_w2v_final_model.model\""
   ]
  },
  {
   "cell_type": "code",
   "execution_count": 6,
   "metadata": {},
   "outputs": [],
   "source": [
    "w2v_model = Word2Vec.load(modelpath)"
   ]
  },
  {
   "cell_type": "code",
   "execution_count": 7,
   "metadata": {},
   "outputs": [],
   "source": [
    "def get_lstm_sub_data(df, modelpath, model):\n",
    "    size = len(df)//1000 * 1000\n",
    "    df = df.iloc[:size]\n",
    "    w2v_model = model\n",
    "    result_X = []\n",
    "    Y = 0\n",
    "\n",
    "    size = len(df)\n",
    "    for col in df.columns:\n",
    "        if 'MOVIE_ID' in col:\n",
    "            #print(col)\n",
    "            arr = w2v_model.wv[df[col].astype(int).astype(str).tolist()]\n",
    "            result_X.append(arr)\n",
    "            print(arr.shape)\n",
    "\n",
    "        if 'scaled_duration' in col:\n",
    "            #print(col)\n",
    "            arr = df[col].values.reshape(size, 1)\n",
    "            result_X.append(arr)\n",
    "            print(arr.shape)\n",
    "\n",
    "        if 'diff_day' in col:\n",
    "            #print(col)\n",
    "            arr = df[col].values.reshape(size, 1)\n",
    "            result_X.append(arr)\n",
    "            print(arr.shape)\n",
    "\n",
    "        if 'week_coord' in col:\n",
    "            #print(col)\n",
    "            arr = np.array(df[col].apply(strtuple2arr).tolist())\n",
    "            result_X.append(arr)\n",
    "            print(arr.shape)\n",
    "\n",
    "        if 'day_coord' in col:\n",
    "            #print(col)\n",
    "            arr = np.array(df[col].apply(strtuple2arr).tolist())\n",
    "            result_X.append(arr)\n",
    "            print(arr.shape)\n",
    "\n",
    "        if 'month_coord' in col:\n",
    "            #print(col)\n",
    "            arr = np.array(df[col].apply(strtuple2arr).tolist())\n",
    "            result_X.append(arr)\n",
    "            print(arr.shape)\n",
    "\n",
    "    X = np.concatenate(result_X, axis=1)\n",
    "    print(X.shape)\n",
    "    #X = X.reshape(X.shape[0], 10, 118)\n",
    "\n",
    "\n",
    "    return X"
   ]
  },
  {
   "cell_type": "code",
   "execution_count": 8,
   "metadata": {},
   "outputs": [],
   "source": [
    "dirpath = 'multivar_lstm/lstm_dataset/'\n",
    "modelpath = 'multivar_lstm/movie_w2v_mincount_model.model'\n",
    "file_list = glob.glob(dirpath+'/*')\n",
    "model = baseline_model(shape=(1000, 10, 118), batch_size=1000)\n",
    "epochs = int(10)\n",
    "batch_size = 1000\n",
    "\n",
    "rate = int(len(file_list)*1)\n",
    "\n",
    "test_file_list = file_list[:rate]"
   ]
  },
  {
   "cell_type": "code",
   "execution_count": 12,
   "metadata": {
    "scrolled": true
   },
   "outputs": [
    {
     "name": "stdout",
     "output_type": "stream",
     "text": [
      "<class 'pandas.core.frame.DataFrame'>\n",
      "Int64Index: 99000 entries, 0 to 98199\n",
      "Data columns (total 61 columns):\n",
      "MOVIE_ID(t-0)           99000 non-null int64\n",
      "scaled_duration(t-0)    99000 non-null float64\n",
      "diff_day(t-0)           99000 non-null float64\n",
      "week_coord(t-0)         99000 non-null object\n",
      "day_coord(t-0)          99000 non-null object\n",
      "month_coord(t-0)        99000 non-null object\n",
      "MOVIE_ID(t-1)           99000 non-null float64\n",
      "scaled_duration(t-1)    99000 non-null float64\n",
      "diff_day(t-1)           99000 non-null float64\n",
      "week_coord(t-1)         99000 non-null object\n",
      "day_coord(t-1)          99000 non-null object\n",
      "month_coord(t-1)        99000 non-null object\n",
      "MOVIE_ID(t-2)           99000 non-null float64\n",
      "scaled_duration(t-2)    99000 non-null float64\n",
      "diff_day(t-2)           99000 non-null float64\n",
      "week_coord(t-2)         99000 non-null object\n",
      "day_coord(t-2)          99000 non-null object\n",
      "month_coord(t-2)        99000 non-null object\n",
      "MOVIE_ID(t-3)           99000 non-null float64\n",
      "scaled_duration(t-3)    99000 non-null float64\n",
      "diff_day(t-3)           99000 non-null float64\n",
      "week_coord(t-3)         99000 non-null object\n",
      "day_coord(t-3)          99000 non-null object\n",
      "month_coord(t-3)        99000 non-null object\n",
      "MOVIE_ID(t-4)           99000 non-null float64\n",
      "scaled_duration(t-4)    99000 non-null float64\n",
      "diff_day(t-4)           99000 non-null float64\n",
      "week_coord(t-4)         99000 non-null object\n",
      "day_coord(t-4)          99000 non-null object\n",
      "month_coord(t-4)        99000 non-null object\n",
      "MOVIE_ID(t-5)           99000 non-null float64\n",
      "scaled_duration(t-5)    99000 non-null float64\n",
      "diff_day(t-5)           99000 non-null float64\n",
      "week_coord(t-5)         99000 non-null object\n",
      "day_coord(t-5)          99000 non-null object\n",
      "month_coord(t-5)        99000 non-null object\n",
      "MOVIE_ID(t-6)           99000 non-null float64\n",
      "scaled_duration(t-6)    99000 non-null float64\n",
      "diff_day(t-6)           99000 non-null float64\n",
      "week_coord(t-6)         99000 non-null object\n",
      "day_coord(t-6)          99000 non-null object\n",
      "month_coord(t-6)        99000 non-null object\n",
      "MOVIE_ID(t-7)           99000 non-null float64\n",
      "scaled_duration(t-7)    99000 non-null float64\n",
      "diff_day(t-7)           99000 non-null float64\n",
      "week_coord(t-7)         99000 non-null object\n",
      "day_coord(t-7)          99000 non-null object\n",
      "month_coord(t-7)        99000 non-null object\n",
      "MOVIE_ID(t-8)           99000 non-null float64\n",
      "scaled_duration(t-8)    99000 non-null float64\n",
      "diff_day(t-8)           99000 non-null float64\n",
      "week_coord(t-8)         99000 non-null object\n",
      "day_coord(t-8)          99000 non-null object\n",
      "month_coord(t-8)        99000 non-null object\n",
      "MOVIE_ID(t-9)           99000 non-null float64\n",
      "scaled_duration(t-9)    99000 non-null float64\n",
      "diff_day(t-9)           99000 non-null float64\n",
      "week_coord(t-9)         99000 non-null object\n",
      "day_coord(t-9)          99000 non-null object\n",
      "month_coord(t-9)        99000 non-null object\n",
      "USER_ID                 99000 non-null int64\n",
      "dtypes: float64(29), int64(2), object(30)\n",
      "memory usage: 46.8+ MB\n",
      "(99000, 100)\n",
      "(99000, 1)\n",
      "(99000, 1)\n",
      "(99000, 2)\n",
      "(99000, 2)\n",
      "(99000, 2)\n",
      "(99000, 100)\n",
      "(99000, 1)\n",
      "(99000, 1)\n",
      "(99000, 2)\n",
      "(99000, 2)\n",
      "(99000, 2)\n",
      "(99000, 100)\n",
      "(99000, 1)\n",
      "(99000, 1)\n",
      "(99000, 2)\n",
      "(99000, 2)\n",
      "(99000, 2)\n",
      "(99000, 100)\n",
      "(99000, 1)\n",
      "(99000, 1)\n",
      "(99000, 2)\n",
      "(99000, 2)\n",
      "(99000, 2)\n",
      "(99000, 100)\n",
      "(99000, 1)\n",
      "(99000, 1)\n",
      "(99000, 2)\n",
      "(99000, 2)\n",
      "(99000, 2)\n",
      "(99000, 100)\n",
      "(99000, 1)\n",
      "(99000, 1)\n",
      "(99000, 2)\n",
      "(99000, 2)\n",
      "(99000, 2)\n",
      "(99000, 100)\n",
      "(99000, 1)\n",
      "(99000, 1)\n",
      "(99000, 2)\n",
      "(99000, 2)\n",
      "(99000, 2)\n",
      "(99000, 100)\n",
      "(99000, 1)\n",
      "(99000, 1)\n",
      "(99000, 2)\n",
      "(99000, 2)\n",
      "(99000, 2)\n",
      "(99000, 100)\n",
      "(99000, 1)\n",
      "(99000, 1)\n",
      "(99000, 2)\n",
      "(99000, 2)\n",
      "(99000, 2)\n",
      "(99000, 100)\n",
      "(99000, 1)\n",
      "(99000, 1)\n",
      "(99000, 2)\n",
      "(99000, 2)\n",
      "(99000, 2)\n",
      "(99000, 1080)\n"
     ]
    }
   ],
   "source": [
    "stack_df = []\n",
    "\n",
    "temp = pd.read_csv(test_file_list[0],index_col='Unnamed: 0')\n",
    "stack_df.append(temp)\n",
    "stack_df.append(temp.tail(800))\n",
    "\n",
    "df = pd.concat(stack_df, axis=0)\n",
    "df.info()\n",
    "\n",
    "\n",
    "train_X = get_lstm_sub_data(df, modelpath, w2v_model)\n",
    "train_X = train_X.reshape(99000,10,108)"
   ]
  },
  {
   "cell_type": "code",
   "execution_count": 13,
   "metadata": {},
   "outputs": [],
   "source": [
    "from keras.models import model_from_json\n",
    "\n",
    "# Model reconstruction from JSON file\n",
    "with open('multivar_lstm/model/final_model.json', 'r') as f:\n",
    "    model = model_from_json(f.read())\n",
    "\n",
    "# Load weights into the new model\n",
    "model.load_weights('multivar_lstm/final_model.h5')"
   ]
  },
  {
   "cell_type": "code",
   "execution_count": 17,
   "metadata": {},
   "outputs": [],
   "source": [
    "result = model.predict(train_X,batch_size=1000)[:98200]"
   ]
  },
  {
   "cell_type": "code",
   "execution_count": 22,
   "metadata": {},
   "outputs": [],
   "source": [
    "n = 50\n",
    "idx = (-result[0]).argsort()[:n]"
   ]
  },
  {
   "cell_type": "code",
   "execution_count": 26,
   "metadata": {},
   "outputs": [],
   "source": [
    "def get_top_n(arr, n):\n",
    "    return (-arr).argsort()[:n]"
   ]
  },
  {
   "cell_type": "code",
   "execution_count": 27,
   "metadata": {},
   "outputs": [
    {
     "data": {
      "text/plain": [
       "array([3851, 4130, 1330, 5746, 5775, 5026, 4820, 4129, 2119, 2340, 6908,\n",
       "       5382, 6411, 2608,  762, 4078, 7870, 3956,  583, 7908, 2051, 5694,\n",
       "       7360, 4959, 3139,  753,  194, 3188,  824, 5015, 6428, 5726,  411,\n",
       "       2929, 4009,  603, 7013, 4023, 8158, 1486, 2127, 5359, 4814, 7812,\n",
       "        620,  704, 3092, 1400, 1092, 5162])"
      ]
     },
     "execution_count": 27,
     "metadata": {},
     "output_type": "execute_result"
    }
   ],
   "source": [
    "get_top_n(result[0],50)"
   ]
  },
  {
   "cell_type": "code",
   "execution_count": 32,
   "metadata": {},
   "outputs": [],
   "source": [
    "recm_arr = np.apply_along_axis(get_top_n,1,result, n=50)"
   ]
  },
  {
   "cell_type": "code",
   "execution_count": 33,
   "metadata": {},
   "outputs": [
    {
     "data": {
      "text/plain": [
       "(98200, 50)"
      ]
     },
     "execution_count": 33,
     "metadata": {},
     "output_type": "execute_result"
    }
   ],
   "source": [
    "recm_arr.shape"
   ]
  },
  {
   "cell_type": "code",
   "execution_count": 41,
   "metadata": {},
   "outputs": [
    {
     "name": "stdout",
     "output_type": "stream",
     "text": [
      "<class 'pandas.core.frame.DataFrame'>\n",
      "RangeIndex: 98200 entries, 0 to 98199\n",
      "Data columns (total 50 columns):\n",
      "0     98200 non-null int64\n",
      "1     98200 non-null int64\n",
      "2     98200 non-null int64\n",
      "3     98200 non-null int64\n",
      "4     98200 non-null int64\n",
      "5     98200 non-null int64\n",
      "6     98200 non-null int64\n",
      "7     98200 non-null int64\n",
      "8     98200 non-null int64\n",
      "9     98200 non-null int64\n",
      "10    98200 non-null int64\n",
      "11    98200 non-null int64\n",
      "12    98200 non-null int64\n",
      "13    98200 non-null int64\n",
      "14    98200 non-null int64\n",
      "15    98200 non-null int64\n",
      "16    98200 non-null int64\n",
      "17    98200 non-null int64\n",
      "18    98200 non-null int64\n",
      "19    98200 non-null int64\n",
      "20    98200 non-null int64\n",
      "21    98200 non-null int64\n",
      "22    98200 non-null int64\n",
      "23    98200 non-null int64\n",
      "24    98200 non-null int64\n",
      "25    98200 non-null int64\n",
      "26    98200 non-null int64\n",
      "27    98200 non-null int64\n",
      "28    98200 non-null int64\n",
      "29    98200 non-null int64\n",
      "30    98200 non-null int64\n",
      "31    98200 non-null int64\n",
      "32    98200 non-null int64\n",
      "33    98200 non-null int64\n",
      "34    98200 non-null int64\n",
      "35    98200 non-null int64\n",
      "36    98200 non-null int64\n",
      "37    98200 non-null int64\n",
      "38    98200 non-null int64\n",
      "39    98200 non-null int64\n",
      "40    98200 non-null int64\n",
      "41    98200 non-null int64\n",
      "42    98200 non-null int64\n",
      "43    98200 non-null int64\n",
      "44    98200 non-null int64\n",
      "45    98200 non-null int64\n",
      "46    98200 non-null int64\n",
      "47    98200 non-null int64\n",
      "48    98200 non-null int64\n",
      "49    98200 non-null int64\n",
      "dtypes: int64(50)\n",
      "memory usage: 37.5 MB\n"
     ]
    }
   ],
   "source": [
    "submit = pd.DataFrame(recm_arr)\n",
    "submit.info()"
   ]
  },
  {
   "cell_type": "code",
   "execution_count": 42,
   "metadata": {},
   "outputs": [
    {
     "name": "stdout",
     "output_type": "stream",
     "text": [
      "<class 'pandas.core.frame.DataFrame'>\n",
      "Int64Index: 98200 entries, 0 to 98199\n",
      "Data columns (total 1 columns):\n",
      "USER_ID    98200 non-null int64\n",
      "dtypes: int64(1)\n",
      "memory usage: 4.0 MB\n"
     ]
    }
   ],
   "source": [
    "user_id = pd.DataFrame(temp['USER_ID'])\n",
    "user_id.info()"
   ]
  },
  {
   "cell_type": "code",
   "execution_count": 43,
   "metadata": {
    "scrolled": true
   },
   "outputs": [
    {
     "name": "stdout",
     "output_type": "stream",
     "text": [
      "<class 'pandas.core.frame.DataFrame'>\n",
      "Int64Index: 98200 entries, 0 to 98199\n",
      "Data columns (total 51 columns):\n",
      "USER_ID    98200 non-null int64\n",
      "0          98200 non-null int64\n",
      "1          98200 non-null int64\n",
      "2          98200 non-null int64\n",
      "3          98200 non-null int64\n",
      "4          98200 non-null int64\n",
      "5          98200 non-null int64\n",
      "6          98200 non-null int64\n",
      "7          98200 non-null int64\n",
      "8          98200 non-null int64\n",
      "9          98200 non-null int64\n",
      "10         98200 non-null int64\n",
      "11         98200 non-null int64\n",
      "12         98200 non-null int64\n",
      "13         98200 non-null int64\n",
      "14         98200 non-null int64\n",
      "15         98200 non-null int64\n",
      "16         98200 non-null int64\n",
      "17         98200 non-null int64\n",
      "18         98200 non-null int64\n",
      "19         98200 non-null int64\n",
      "20         98200 non-null int64\n",
      "21         98200 non-null int64\n",
      "22         98200 non-null int64\n",
      "23         98200 non-null int64\n",
      "24         98200 non-null int64\n",
      "25         98200 non-null int64\n",
      "26         98200 non-null int64\n",
      "27         98200 non-null int64\n",
      "28         98200 non-null int64\n",
      "29         98200 non-null int64\n",
      "30         98200 non-null int64\n",
      "31         98200 non-null int64\n",
      "32         98200 non-null int64\n",
      "33         98200 non-null int64\n",
      "34         98200 non-null int64\n",
      "35         98200 non-null int64\n",
      "36         98200 non-null int64\n",
      "37         98200 non-null int64\n",
      "38         98200 non-null int64\n",
      "39         98200 non-null int64\n",
      "40         98200 non-null int64\n",
      "41         98200 non-null int64\n",
      "42         98200 non-null int64\n",
      "43         98200 non-null int64\n",
      "44         98200 non-null int64\n",
      "45         98200 non-null int64\n",
      "46         98200 non-null int64\n",
      "47         98200 non-null int64\n",
      "48         98200 non-null int64\n",
      "49         98200 non-null int64\n",
      "dtypes: int64(51)\n",
      "memory usage: 41.5 MB\n"
     ]
    }
   ],
   "source": [
    "submit = pd.concat([user_id, submit],axis=1)\n",
    "submit.info()"
   ]
  },
  {
   "cell_type": "code",
   "execution_count": 44,
   "metadata": {},
   "outputs": [],
   "source": [
    "submit.sort_values(['USER_ID'],inplace=True)"
   ]
  },
  {
   "cell_type": "code",
   "execution_count": 46,
   "metadata": {},
   "outputs": [],
   "source": [
    "submit.to_csv('lstm_model_submit.csv',index=False,header=None)"
   ]
  },
  {
   "cell_type": "code",
   "execution_count": null,
   "metadata": {},
   "outputs": [],
   "source": []
  }
 ],
 "metadata": {
  "kernelspec": {
   "display_name": "Environment (conda_tensorflow_p36)",
   "language": "python",
   "name": "conda_tensorflow_p36"
  },
  "language_info": {
   "codemirror_mode": {
    "name": "ipython",
    "version": 3
   },
   "file_extension": ".py",
   "mimetype": "text/x-python",
   "name": "python",
   "nbconvert_exporter": "python",
   "pygments_lexer": "ipython3",
   "version": "3.6.4"
  }
 },
 "nbformat": 4,
 "nbformat_minor": 2
}
