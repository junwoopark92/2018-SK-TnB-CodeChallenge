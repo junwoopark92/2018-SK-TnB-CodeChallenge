{
 "cells": [
  {
   "cell_type": "code",
   "execution_count": 1,
   "metadata": {
    "collapsed": true
   },
   "outputs": [],
   "source": [
    "import sys\n",
    "sys.path.append(\"../../sktnb_code_challenge/ttuckbaegi3/metrics\")\n",
    "import pandas as pd\n",
    "import numpy as np\n",
    "%matplotlib inline"
   ]
  },
  {
   "cell_type": "code",
   "execution_count": 2,
   "metadata": {
    "collapsed": true
   },
   "outputs": [],
   "source": [
    "from gensim.models import Word2Vec"
   ]
  },
  {
   "cell_type": "code",
   "execution_count": 3,
   "metadata": {
    "collapsed": true
   },
   "outputs": [],
   "source": [
    "from sklearn.preprocessing import minmax_scale"
   ]
  },
  {
   "cell_type": "code",
   "execution_count": 4,
   "metadata": {
    "scrolled": true
   },
   "outputs": [
    {
     "name": "stdout",
     "output_type": "stream",
     "text": [
      "<class 'pandas.core.frame.DataFrame'>\n",
      "Int64Index: 100000 entries, 0 to 99999\n",
      "Data columns (total 61 columns):\n",
      "MOVIE_ID(t-0)           100000 non-null int64\n",
      "scaled_duration(t-0)    100000 non-null float64\n",
      "diff_day(t-0)           100000 non-null int64\n",
      "week_coord(t-0)         100000 non-null object\n",
      "day_coord(t-0)          100000 non-null object\n",
      "month_coord(t-0)        100000 non-null object\n",
      "MOVIE_ID(t-1)           100000 non-null float64\n",
      "scaled_duration(t-1)    100000 non-null float64\n",
      "diff_day(t-1)           100000 non-null float64\n",
      "week_coord(t-1)         100000 non-null object\n",
      "day_coord(t-1)          100000 non-null object\n",
      "month_coord(t-1)        100000 non-null object\n",
      "MOVIE_ID(t-2)           100000 non-null float64\n",
      "scaled_duration(t-2)    100000 non-null float64\n",
      "diff_day(t-2)           100000 non-null float64\n",
      "week_coord(t-2)         100000 non-null object\n",
      "day_coord(t-2)          100000 non-null object\n",
      "month_coord(t-2)        100000 non-null object\n",
      "MOVIE_ID(t-3)           100000 non-null float64\n",
      "scaled_duration(t-3)    100000 non-null float64\n",
      "diff_day(t-3)           100000 non-null float64\n",
      "week_coord(t-3)         100000 non-null object\n",
      "day_coord(t-3)          100000 non-null object\n",
      "month_coord(t-3)        100000 non-null object\n",
      "MOVIE_ID(t-4)           100000 non-null float64\n",
      "scaled_duration(t-4)    100000 non-null float64\n",
      "diff_day(t-4)           100000 non-null float64\n",
      "week_coord(t-4)         100000 non-null object\n",
      "day_coord(t-4)          100000 non-null object\n",
      "month_coord(t-4)        100000 non-null object\n",
      "MOVIE_ID(t-5)           100000 non-null float64\n",
      "scaled_duration(t-5)    100000 non-null float64\n",
      "diff_day(t-5)           100000 non-null float64\n",
      "week_coord(t-5)         100000 non-null object\n",
      "day_coord(t-5)          100000 non-null object\n",
      "month_coord(t-5)        100000 non-null object\n",
      "MOVIE_ID(t-6)           100000 non-null float64\n",
      "scaled_duration(t-6)    100000 non-null float64\n",
      "diff_day(t-6)           100000 non-null float64\n",
      "week_coord(t-6)         100000 non-null object\n",
      "day_coord(t-6)          100000 non-null object\n",
      "month_coord(t-6)        100000 non-null object\n",
      "MOVIE_ID(t-7)           100000 non-null float64\n",
      "scaled_duration(t-7)    100000 non-null float64\n",
      "diff_day(t-7)           100000 non-null float64\n",
      "week_coord(t-7)         100000 non-null object\n",
      "day_coord(t-7)          100000 non-null object\n",
      "month_coord(t-7)        100000 non-null object\n",
      "MOVIE_ID(t-8)           100000 non-null float64\n",
      "scaled_duration(t-8)    100000 non-null float64\n",
      "diff_day(t-8)           100000 non-null float64\n",
      "week_coord(t-8)         100000 non-null object\n",
      "day_coord(t-8)          100000 non-null object\n",
      "month_coord(t-8)        100000 non-null object\n",
      "MOVIE_ID(t-9)           100000 non-null float64\n",
      "scaled_duration(t-9)    100000 non-null float64\n",
      "diff_day(t-9)           100000 non-null float64\n",
      "week_coord(t-9)         100000 non-null object\n",
      "day_coord(t-9)          100000 non-null object\n",
      "month_coord(t-9)        100000 non-null object\n",
      "MOVIE_ID(t-10)          100000 non-null float64\n",
      "dtypes: float64(29), int64(2), object(30)\n",
      "memory usage: 47.3+ MB\n"
     ]
    }
   ],
   "source": [
    "df = pd.read_csv('../../lstm_data_sample.csv',index_col='Unnamed: 0',nrows=100000)\n",
    "df.info()"
   ]
  },
  {
   "cell_type": "code",
   "execution_count": 5,
   "metadata": {},
   "outputs": [
    {
     "data": {
      "text/plain": [
       "(20, 100)"
      ]
     },
     "execution_count": 5,
     "metadata": {},
     "output_type": "execute_result"
    }
   ],
   "source": [
    "w2v_model = Word2Vec.load('../../movie_w2v_mincount_model.model')\n",
    "w2v_model.wv[df['MOVIE_ID(t-0)'].astype(str).tolist()[:20]].shape"
   ]
  },
  {
   "cell_type": "code",
   "execution_count": 6,
   "metadata": {},
   "outputs": [
    {
     "data": {
      "text/plain": [
       "Index(['MOVIE_ID(t-0)', 'scaled_duration(t-0)', 'diff_day(t-0)',\n",
       "       'week_coord(t-0)', 'day_coord(t-0)', 'month_coord(t-0)',\n",
       "       'MOVIE_ID(t-1)', 'scaled_duration(t-1)', 'diff_day(t-1)',\n",
       "       'week_coord(t-1)', 'day_coord(t-1)', 'month_coord(t-1)',\n",
       "       'MOVIE_ID(t-2)', 'scaled_duration(t-2)', 'diff_day(t-2)',\n",
       "       'week_coord(t-2)', 'day_coord(t-2)', 'month_coord(t-2)',\n",
       "       'MOVIE_ID(t-3)', 'scaled_duration(t-3)', 'diff_day(t-3)',\n",
       "       'week_coord(t-3)', 'day_coord(t-3)', 'month_coord(t-3)',\n",
       "       'MOVIE_ID(t-4)', 'scaled_duration(t-4)', 'diff_day(t-4)',\n",
       "       'week_coord(t-4)', 'day_coord(t-4)', 'month_coord(t-4)',\n",
       "       'MOVIE_ID(t-5)', 'scaled_duration(t-5)', 'diff_day(t-5)',\n",
       "       'week_coord(t-5)', 'day_coord(t-5)', 'month_coord(t-5)',\n",
       "       'MOVIE_ID(t-6)', 'scaled_duration(t-6)', 'diff_day(t-6)',\n",
       "       'week_coord(t-6)', 'day_coord(t-6)', 'month_coord(t-6)',\n",
       "       'MOVIE_ID(t-7)', 'scaled_duration(t-7)', 'diff_day(t-7)',\n",
       "       'week_coord(t-7)', 'day_coord(t-7)', 'month_coord(t-7)',\n",
       "       'MOVIE_ID(t-8)', 'scaled_duration(t-8)', 'diff_day(t-8)',\n",
       "       'week_coord(t-8)', 'day_coord(t-8)', 'month_coord(t-8)',\n",
       "       'MOVIE_ID(t-9)', 'scaled_duration(t-9)', 'diff_day(t-9)',\n",
       "       'week_coord(t-9)', 'day_coord(t-9)', 'month_coord(t-9)',\n",
       "       'MOVIE_ID(t-10)'],\n",
       "      dtype='object')"
      ]
     },
     "execution_count": 6,
     "metadata": {},
     "output_type": "execute_result"
    }
   ],
   "source": [
    "df.columns"
   ]
  },
  {
   "cell_type": "code",
   "execution_count": 7,
   "metadata": {
    "collapsed": true
   },
   "outputs": [],
   "source": [
    "def strtuple2arr(x):\n",
    "    return np.array(x.replace('(','').replace(')','').split(','),dtype=np.float32)"
   ]
  },
  {
   "cell_type": "code",
   "execution_count": 8,
   "metadata": {},
   "outputs": [
    {
     "name": "stdout",
     "output_type": "stream",
     "text": [
      "CPU times: user 607 µs, sys: 40 µs, total: 647 µs\n",
      "Wall time: 637 µs\n"
     ]
    },
    {
     "data": {
      "text/plain": [
       "array([[ 0.6234898 , -0.7818315 ],\n",
       "       [-0.22252093,  0.9749279 ],\n",
       "       [-0.22252093, -0.9749279 ],\n",
       "       [-0.90096885,  0.43388373],\n",
       "       [ 1.        ,  0.        ],\n",
       "       [ 1.        ,  0.        ],\n",
       "       [ 1.        ,  0.        ],\n",
       "       [ 1.        ,  0.        ],\n",
       "       [ 1.        ,  0.        ],\n",
       "       [ 0.6234898 ,  0.7818315 ],\n",
       "       [ 0.6234898 ,  0.7818315 ],\n",
       "       [ 0.6234898 ,  0.7818315 ],\n",
       "       [ 0.6234898 ,  0.7818315 ],\n",
       "       [ 0.6234898 ,  0.7818315 ],\n",
       "       [-0.90096885, -0.43388373],\n",
       "       [-0.90096885, -0.43388373],\n",
       "       [-0.90096885, -0.43388373],\n",
       "       [-0.90096885, -0.43388373],\n",
       "       [-0.90096885, -0.43388373],\n",
       "       [-0.90096885, -0.43388373]], dtype=float32)"
      ]
     },
     "execution_count": 8,
     "metadata": {},
     "output_type": "execute_result"
    }
   ],
   "source": [
    "%%time\n",
    "np.array(df['week_coord(t-8)'][:20].apply(strtuple2arr).tolist())"
   ]
  },
  {
   "cell_type": "code",
   "execution_count": 9,
   "metadata": {},
   "outputs": [
    {
     "name": "stdout",
     "output_type": "stream",
     "text": [
      "MOVIE_ID(t-0)\n",
      "scaled_duration(t-0)\n",
      "diff_day(t-0)\n",
      "week_coord(t-0)\n"
     ]
    },
    {
     "name": "stderr",
     "output_type": "stream",
     "text": [
      "/Users/1003874/anaconda/envs/lstm/lib/python3.6/site-packages/sklearn/utils/validation.py:429: DataConversionWarning: Data with input dtype int64 was converted to float64.\n",
      "  warnings.warn(msg, _DataConversionWarning)\n"
     ]
    },
    {
     "name": "stdout",
     "output_type": "stream",
     "text": [
      "day_coord(t-0)\n",
      "month_coord(t-0)\n",
      "MOVIE_ID(t-1)\n",
      "scaled_duration(t-1)\n",
      "diff_day(t-1)\n",
      "week_coord(t-1)\n",
      "day_coord(t-1)\n",
      "month_coord(t-1)\n",
      "MOVIE_ID(t-2)\n",
      "scaled_duration(t-2)\n",
      "diff_day(t-2)\n",
      "week_coord(t-2)\n",
      "day_coord(t-2)\n",
      "month_coord(t-2)\n",
      "MOVIE_ID(t-3)\n",
      "scaled_duration(t-3)\n",
      "diff_day(t-3)\n",
      "week_coord(t-3)\n",
      "day_coord(t-3)\n",
      "month_coord(t-3)\n",
      "MOVIE_ID(t-4)\n",
      "scaled_duration(t-4)\n",
      "diff_day(t-4)\n",
      "week_coord(t-4)\n",
      "day_coord(t-4)\n",
      "month_coord(t-4)\n",
      "MOVIE_ID(t-5)\n",
      "scaled_duration(t-5)\n",
      "diff_day(t-5)\n",
      "week_coord(t-5)\n",
      "day_coord(t-5)\n",
      "month_coord(t-5)\n",
      "MOVIE_ID(t-6)\n",
      "scaled_duration(t-6)\n",
      "diff_day(t-6)\n",
      "week_coord(t-6)\n",
      "day_coord(t-6)\n",
      "month_coord(t-6)\n",
      "MOVIE_ID(t-7)\n",
      "scaled_duration(t-7)\n",
      "diff_day(t-7)\n",
      "week_coord(t-7)\n",
      "day_coord(t-7)\n",
      "month_coord(t-7)\n",
      "MOVIE_ID(t-8)\n",
      "scaled_duration(t-8)\n",
      "diff_day(t-8)\n",
      "week_coord(t-8)\n",
      "day_coord(t-8)\n",
      "month_coord(t-8)\n",
      "MOVIE_ID(t-9)\n",
      "scaled_duration(t-9)\n",
      "diff_day(t-9)\n",
      "week_coord(t-9)\n",
      "day_coord(t-9)\n",
      "month_coord(t-9)\n",
      "MOVIE_ID(t-10)\n",
      "MOVIE_ID(t-10)\n",
      "CPU times: user 18.1 s, sys: 340 ms, total: 18.5 s\n",
      "Wall time: 18.5 s\n"
     ]
    }
   ],
   "source": [
    "%%time\n",
    "result_X = []\n",
    "Y = 0\n",
    "\n",
    "size = len(df)\n",
    "for col in df.columns:\n",
    "    if 'MOVIE_ID' in col:\n",
    "        print(col)\n",
    "        arr = w2v_model.wv[df[col].astype(int).astype(str).tolist()]\n",
    "        result_X.append(arr)\n",
    "        \n",
    "    if 'scaled_duration' in col:\n",
    "        print(col)\n",
    "        arr = df[col].values.reshape(size,1)\n",
    "        result_X.append(arr)\n",
    "        \n",
    "    if 'diff_day' in col:\n",
    "        print(col)\n",
    "        arr = minmax_scale(df[col].values,feature_range=(-1,1)).reshape(size,1)\n",
    "        result_X.append(arr)\n",
    "    \n",
    "    if 'week_coord' in col:\n",
    "        print(col)\n",
    "        arr = np.array(df[col].apply(strtuple2arr).tolist())\n",
    "        result_X.append(arr)\n",
    "        \n",
    "    if 'day_coord' in col:\n",
    "        print(col)\n",
    "        arr = np.array(df[col].apply(strtuple2arr).tolist())\n",
    "        result_X.append(arr)\n",
    "    \n",
    "    if 'month_coord' in col:\n",
    "        print(col)\n",
    "        arr = np.array(df[col].apply(strtuple2arr).tolist())\n",
    "        result_X.append(arr)\n",
    "        \n",
    "    if '(t-10)' in col:\n",
    "        print(col)\n",
    "        Y = df[col].values"
   ]
  },
  {
   "cell_type": "code",
   "execution_count": 10,
   "metadata": {},
   "outputs": [
    {
     "name": "stdout",
     "output_type": "stream",
     "text": [
      "(100000, 1180) (100000,)\n"
     ]
    }
   ],
   "source": [
    "X = np.concatenate(result_X,axis=1)\n",
    "print(X.shape, Y.shape)"
   ]
  },
  {
   "cell_type": "code",
   "execution_count": 11,
   "metadata": {},
   "outputs": [
    {
     "name": "stdout",
     "output_type": "stream",
     "text": [
      "(100000, 10, 118) (100000,)\n"
     ]
    }
   ],
   "source": [
    "X = X.reshape(X.shape[0],10,118)\n",
    "print(X.shape, Y.shape)"
   ]
  },
  {
   "cell_type": "code",
   "execution_count": 12,
   "metadata": {},
   "outputs": [
    {
     "name": "stderr",
     "output_type": "stream",
     "text": [
      "Using TensorFlow backend.\n"
     ]
    }
   ],
   "source": [
    "from keras.models import Sequential\n",
    "from keras.layers import Dense\n",
    "from keras.wrappers.scikit_learn import KerasClassifier\n",
    "from keras.utils import np_utils\n",
    "from sklearn.model_selection import cross_val_score\n",
    "from sklearn.model_selection import KFold\n",
    "from sklearn.preprocessing import LabelEncoder\n",
    "\n",
    "import keras\n",
    "from keras.layers import Input, Embedding, LSTM, Dense\n",
    "from keras.models import Model"
   ]
  },
  {
   "cell_type": "code",
   "execution_count": 13,
   "metadata": {
    "collapsed": true
   },
   "outputs": [],
   "source": [
    "# encode class values as integers\n",
    "encoder = LabelEncoder()\n",
    "encoder.fit(Y)\n",
    "encoded_Y = encoder.transform(Y)\n",
    "# convert integers to dummy variables (i.e. one hot encoded)\n",
    "dummy_y = np_utils.to_categorical(encoded_Y)"
   ]
  },
  {
   "cell_type": "code",
   "execution_count": 15,
   "metadata": {},
   "outputs": [
    {
     "name": "stdout",
     "output_type": "stream",
     "text": [
      "(80000, 10, 118) (20000, 10, 118) (80000, 2027) (20000, 2027)\n"
     ]
    }
   ],
   "source": [
    "rate = int(len(X)*0.8)\n",
    "train_X, test_X = X[:rate], X[rate:]\n",
    "train_y, test_y = dummy_y[:rate], dummy_y[rate:]\n",
    "print(train_X.shape, test_X.shape, train_y.shape, test_y.shape)"
   ]
  },
  {
   "cell_type": "code",
   "execution_count": 16,
   "metadata": {
    "collapsed": true
   },
   "outputs": [],
   "source": [
    "batch_size = 100"
   ]
  },
  {
   "cell_type": "code",
   "execution_count": 48,
   "metadata": {
    "collapsed": true
   },
   "outputs": [],
   "source": [
    "# define baseline model\n",
    "def baseline_model():\n",
    "    main_input = Input(shape=(train_X.shape[1],train_X.shape[2]),\n",
    "                       batch_shape=(batch_size,train_X.shape[1],train_X.shape[2]),name='main_input')\n",
    "    \n",
    "    x = LSTM(128,return_sequences=True,stateful=True)(main_input)\n",
    "    x = LSTM(128,stateful=True)(x)\n",
    "    x = Dense(256,activation='relu')(x)\n",
    "    x = Dense(512,activation='relu')(x)\n",
    "    main_output = Dense(2027,activation='softmax')(x)\n",
    "\n",
    "    model = Model(inputs=main_input, outputs=main_output)\n",
    "    \n",
    "    model.compile(loss='categorical_crossentropy', optimizer='adam', metrics=['accuracy'])\n",
    "    return model"
   ]
  },
  {
   "cell_type": "code",
   "execution_count": 17,
   "metadata": {
    "collapsed": true
   },
   "outputs": [],
   "source": [
    "estimator = KerasClassifier(build_fn=baseline_model, epochs=20, batch_size=batch_size, verbose=1)"
   ]
  },
  {
   "cell_type": "code",
   "execution_count": 18,
   "metadata": {
    "collapsed": true
   },
   "outputs": [],
   "source": [
    "kfold = KFold(n_splits=5, shuffle=True, random_state=0)"
   ]
  },
  {
   "cell_type": "code",
   "execution_count": 19,
   "metadata": {
    "scrolled": true
   },
   "outputs": [
    {
     "name": "stdout",
     "output_type": "stream",
     "text": [
      "_________________________________________________________________\n",
      "Layer (type)                 Output Shape              Param #   \n",
      "=================================================================\n",
      "main_input (InputLayer)      (100, 10, 118)            0         \n",
      "_________________________________________________________________\n",
      "lstm_1 (LSTM)                (100, 10, 128)            126464    \n",
      "_________________________________________________________________\n",
      "lstm_2 (LSTM)                (100, 128)                131584    \n",
      "_________________________________________________________________\n",
      "dense_1 (Dense)              (100, 256)                33024     \n",
      "_________________________________________________________________\n",
      "dense_2 (Dense)              (100, 512)                131584    \n",
      "_________________________________________________________________\n",
      "dense_3 (Dense)              (100, 2027)               1039851   \n",
      "=================================================================\n",
      "Total params: 1,462,507\n",
      "Trainable params: 1,462,507\n",
      "Non-trainable params: 0\n",
      "_________________________________________________________________\n",
      "Epoch 1/20\n",
      "64000/64000 [==============================] - 74s - loss: 3.1029 - acc: 0.4579    \n",
      "Epoch 2/20\n",
      "64000/64000 [==============================] - 75s - loss: 0.5953 - acc: 0.9085    \n",
      "Epoch 3/20\n",
      "64000/64000 [==============================] - 73s - loss: 0.3409 - acc: 0.9517    \n",
      "Epoch 4/20\n",
      "64000/64000 [==============================] - 72s - loss: 0.2311 - acc: 0.9725    \n",
      "Epoch 5/20\n",
      "64000/64000 [==============================] - 72s - loss: 0.2395 - acc: 0.9676    \n",
      "Epoch 6/20\n",
      "64000/64000 [==============================] - 73s - loss: 0.1940 - acc: 0.9786    \n",
      "Epoch 7/20\n",
      "64000/64000 [==============================] - 71s - loss: 0.2149 - acc: 0.9755    \n",
      "Epoch 8/20\n",
      "64000/64000 [==============================] - 72s - loss: 0.2069 - acc: 0.9782    \n",
      "Epoch 9/20\n",
      "64000/64000 [==============================] - 72s - loss: 0.2015 - acc: 0.9818    \n",
      "Epoch 10/20\n",
      "64000/64000 [==============================] - 73s - loss: 0.2137 - acc: 0.9785    \n",
      "Epoch 11/20\n",
      "64000/64000 [==============================] - 73s - loss: 0.1856 - acc: 0.9840    \n",
      "Epoch 12/20\n",
      "64000/64000 [==============================] - 73s - loss: 0.1978 - acc: 0.9809    \n",
      "Epoch 13/20\n",
      "64000/64000 [==============================] - 72s - loss: 0.1824 - acc: 0.9844    \n",
      "Epoch 14/20\n",
      "64000/64000 [==============================] - 73s - loss: 0.1898 - acc: 0.9827    \n",
      "Epoch 15/20\n",
      "64000/64000 [==============================] - 71s - loss: 0.1716 - acc: 0.9873    \n",
      "Epoch 16/20\n",
      "64000/64000 [==============================] - 75s - loss: 0.1961 - acc: 0.9814    \n",
      "Epoch 17/20\n",
      "64000/64000 [==============================] - 77s - loss: 0.1744 - acc: 0.9869    \n",
      "Epoch 18/20\n",
      "64000/64000 [==============================] - 70s - loss: 0.1860 - acc: 0.9840    \n",
      "Epoch 19/20\n",
      "64000/64000 [==============================] - 71s - loss: 0.1685 - acc: 0.9880    \n",
      "Epoch 20/20\n",
      "64000/64000 [==============================] - 71s - loss: 0.1660 - acc: 0.9885    \n",
      "15900/16000 [============================>.] - ETA: 0s_________________________________________________________________\n",
      "Layer (type)                 Output Shape              Param #   \n",
      "=================================================================\n",
      "main_input (InputLayer)      (100, 10, 118)            0         \n",
      "_________________________________________________________________\n",
      "lstm_3 (LSTM)                (100, 10, 128)            126464    \n",
      "_________________________________________________________________\n",
      "lstm_4 (LSTM)                (100, 128)                131584    \n",
      "_________________________________________________________________\n",
      "dense_4 (Dense)              (100, 256)                33024     \n",
      "_________________________________________________________________\n",
      "dense_5 (Dense)              (100, 512)                131584    \n",
      "_________________________________________________________________\n",
      "dense_6 (Dense)              (100, 2027)               1039851   \n",
      "=================================================================\n",
      "Total params: 1,462,507\n",
      "Trainable params: 1,462,507\n",
      "Non-trainable params: 0\n",
      "_________________________________________________________________\n",
      "Epoch 1/20\n",
      "64000/64000 [==============================] - 72s - loss: 3.0199 - acc: 0.4725    \n",
      "Epoch 2/20\n",
      "64000/64000 [==============================] - 72s - loss: 0.6086 - acc: 0.9028    \n",
      "Epoch 3/20\n",
      "64000/64000 [==============================] - 72s - loss: 0.3883 - acc: 0.9472    \n",
      "Epoch 4/20\n",
      "64000/64000 [==============================] - 71s - loss: 0.3988 - acc: 0.9630    \n",
      "Epoch 5/20\n",
      "64000/64000 [==============================] - 71s - loss: 0.3907 - acc: 0.9610    \n",
      "Epoch 6/20\n",
      "64000/64000 [==============================] - 71s - loss: 0.3772 - acc: 0.9630    \n",
      "Epoch 7/20\n",
      "64000/64000 [==============================] - 71s - loss: 0.3367 - acc: 0.9730    \n",
      "Epoch 8/20\n",
      "64000/64000 [==============================] - 71s - loss: 0.2701 - acc: 0.9718    \n",
      "Epoch 9/20\n",
      "64000/64000 [==============================] - 71s - loss: 0.1550 - acc: 0.9863    \n",
      "Epoch 10/20\n",
      "64000/64000 [==============================] - 71s - loss: 0.1816 - acc: 0.9803    \n",
      "Epoch 11/20\n",
      "64000/64000 [==============================] - 72s - loss: 0.1575 - acc: 0.9871    \n",
      "Epoch 12/20\n",
      "64000/64000 [==============================] - 71s - loss: 0.1775 - acc: 0.9811    \n",
      "Epoch 13/20\n",
      "64000/64000 [==============================] - 72s - loss: 0.1478 - acc: 0.9884    \n",
      "Epoch 14/20\n",
      "64000/64000 [==============================] - 73s - loss: 0.1556 - acc: 0.9863    \n",
      "Epoch 15/20\n",
      "64000/64000 [==============================] - 74s - loss: 0.1604 - acc: 0.9851    \n",
      "Epoch 16/20\n",
      "64000/64000 [==============================] - 74s - loss: 0.1658 - acc: 0.9861    \n",
      "Epoch 17/20\n",
      "64000/64000 [==============================] - 74s - loss: 0.1529 - acc: 0.9892    \n",
      "Epoch 18/20\n",
      "64000/64000 [==============================] - 72s - loss: 0.1745 - acc: 0.9826    \n",
      "Epoch 19/20\n",
      "64000/64000 [==============================] - 72s - loss: 0.1420 - acc: 0.9902    \n",
      "Epoch 20/20\n",
      "64000/64000 [==============================] - 72s - loss: 0.1566 - acc: 0.9865    \n",
      "15900/16000 [============================>.] - ETA: 0s_________________________________________________________________\n",
      "Layer (type)                 Output Shape              Param #   \n",
      "=================================================================\n",
      "main_input (InputLayer)      (100, 10, 118)            0         \n",
      "_________________________________________________________________\n",
      "lstm_5 (LSTM)                (100, 10, 128)            126464    \n",
      "_________________________________________________________________\n",
      "lstm_6 (LSTM)                (100, 128)                131584    \n",
      "_________________________________________________________________\n",
      "dense_7 (Dense)              (100, 256)                33024     \n",
      "_________________________________________________________________\n",
      "dense_8 (Dense)              (100, 512)                131584    \n",
      "_________________________________________________________________\n",
      "dense_9 (Dense)              (100, 2027)               1039851   \n",
      "=================================================================\n",
      "Total params: 1,462,507\n",
      "Trainable params: 1,462,507\n",
      "Non-trainable params: 0\n",
      "_________________________________________________________________\n",
      "Epoch 1/20\n",
      "64000/64000 [==============================] - 77s - loss: 3.2812 - acc: 0.4209    \n",
      "Epoch 2/20\n",
      "64000/64000 [==============================] - 73s - loss: 0.6432 - acc: 0.8920    \n",
      "Epoch 3/20\n",
      "64000/64000 [==============================] - 71s - loss: 0.3363 - acc: 0.9470    \n",
      "Epoch 4/20\n",
      "64000/64000 [==============================] - 71s - loss: 0.2143 - acc: 0.9702    \n",
      "Epoch 5/20\n",
      "64000/64000 [==============================] - 71s - loss: 0.2021 - acc: 0.9704    \n",
      "Epoch 6/20\n",
      "64000/64000 [==============================] - 72s - loss: 0.1533 - acc: 0.9815    \n",
      "Epoch 7/20\n",
      "64000/64000 [==============================] - 72s - loss: 0.2103 - acc: 0.9696    \n",
      "Epoch 8/20\n",
      "64000/64000 [==============================] - 71s - loss: 0.1371 - acc: 0.9860    \n",
      "Epoch 9/20\n",
      "64000/64000 [==============================] - 75s - loss: 0.1527 - acc: 0.9810    \n",
      "Epoch 10/20\n"
     ]
    },
    {
     "name": "stdout",
     "output_type": "stream",
     "text": [
      "64000/64000 [==============================] - 73s - loss: 0.1354 - acc: 0.9853    \n",
      "Epoch 11/20\n",
      "64000/64000 [==============================] - 72s - loss: 0.1730 - acc: 0.9802    \n",
      "Epoch 12/20\n",
      "64000/64000 [==============================] - 71s - loss: 0.1522 - acc: 0.9867    \n",
      "Epoch 13/20\n",
      "64000/64000 [==============================] - 72s - loss: 0.1764 - acc: 0.9808    \n",
      "Epoch 14/20\n",
      "64000/64000 [==============================] - 71s - loss: 0.1526 - acc: 0.9868    \n",
      "Epoch 15/20\n",
      "64000/64000 [==============================] - 70s - loss: 0.1324 - acc: 0.9877    \n",
      "Epoch 16/20\n",
      "64000/64000 [==============================] - 71s - loss: 0.1445 - acc: 0.9845    \n",
      "Epoch 17/20\n",
      "64000/64000 [==============================] - 71s - loss: 0.1304 - acc: 0.9897    \n",
      "Epoch 18/20\n",
      "64000/64000 [==============================] - 71s - loss: 0.1373 - acc: 0.9868    \n",
      "Epoch 19/20\n",
      "64000/64000 [==============================] - 72s - loss: 0.1153 - acc: 0.9912    \n",
      "Epoch 20/20\n",
      "64000/64000 [==============================] - 72s - loss: 0.1302 - acc: 0.9875    \n",
      "15900/16000 [============================>.] - ETA: 0s_________________________________________________________________\n",
      "Layer (type)                 Output Shape              Param #   \n",
      "=================================================================\n",
      "main_input (InputLayer)      (100, 10, 118)            0         \n",
      "_________________________________________________________________\n",
      "lstm_7 (LSTM)                (100, 10, 128)            126464    \n",
      "_________________________________________________________________\n",
      "lstm_8 (LSTM)                (100, 128)                131584    \n",
      "_________________________________________________________________\n",
      "dense_10 (Dense)             (100, 256)                33024     \n",
      "_________________________________________________________________\n",
      "dense_11 (Dense)             (100, 512)                131584    \n",
      "_________________________________________________________________\n",
      "dense_12 (Dense)             (100, 2027)               1039851   \n",
      "=================================================================\n",
      "Total params: 1,462,507\n",
      "Trainable params: 1,462,507\n",
      "Non-trainable params: 0\n",
      "_________________________________________________________________\n",
      "Epoch 1/20\n",
      "64000/64000 [==============================] - 73s - loss: 2.8633 - acc: 0.5128    \n",
      "Epoch 2/20\n",
      "64000/64000 [==============================] - 72s - loss: 0.5602 - acc: 0.9141    \n",
      "Epoch 3/20\n",
      "64000/64000 [==============================] - 71s - loss: 0.3170 - acc: 0.9579    \n",
      "Epoch 4/20\n",
      "64000/64000 [==============================] - 74s - loss: 0.3474 - acc: 0.9582    \n",
      "Epoch 5/20\n",
      "64000/64000 [==============================] - 76s - loss: 0.3253 - acc: 0.9626    \n",
      "Epoch 6/20\n",
      "64000/64000 [==============================] - 76s - loss: 0.2798 - acc: 0.9738    \n",
      "Epoch 7/20\n",
      "64000/64000 [==============================] - 77s - loss: 0.3047 - acc: 0.9684    \n",
      "Epoch 8/20\n",
      "64000/64000 [==============================] - 74s - loss: 0.2752 - acc: 0.9752    \n",
      "Epoch 9/20\n",
      "64000/64000 [==============================] - 76s - loss: 0.2971 - acc: 0.9742    \n",
      "Epoch 10/20\n",
      "64000/64000 [==============================] - 74s - loss: 0.2701 - acc: 0.9760    \n",
      "Epoch 11/20\n",
      "64000/64000 [==============================] - 77s - loss: 0.2639 - acc: 0.9781    \n",
      "Epoch 12/20\n",
      "64000/64000 [==============================] - 74s - loss: 0.2752 - acc: 0.9760    \n",
      "Epoch 13/20\n",
      "64000/64000 [==============================] - 74s - loss: 0.2495 - acc: 0.9821    \n",
      "Epoch 14/20\n",
      "64000/64000 [==============================] - 74s - loss: 0.2306 - acc: 0.9783    \n",
      "Epoch 15/20\n",
      "64000/64000 [==============================] - 78s - loss: 0.1647 - acc: 0.9882    \n",
      "Epoch 16/20\n",
      "64000/64000 [==============================] - 74s - loss: 0.1748 - acc: 0.9853    \n",
      "Epoch 17/20\n",
      "64000/64000 [==============================] - 73s - loss: 0.1864 - acc: 0.9826    \n",
      "Epoch 18/20\n",
      "64000/64000 [==============================] - 75s - loss: 0.1626 - acc: 0.9886    \n",
      "Epoch 19/20\n",
      "64000/64000 [==============================] - 75s - loss: 0.1820 - acc: 0.9837    \n",
      "Epoch 20/20\n",
      "64000/64000 [==============================] - 74s - loss: 0.1647 - acc: 0.9879    \n",
      "15900/16000 [============================>.] - ETA: 0s_________________________________________________________________\n",
      "Layer (type)                 Output Shape              Param #   \n",
      "=================================================================\n",
      "main_input (InputLayer)      (100, 10, 118)            0         \n",
      "_________________________________________________________________\n",
      "lstm_9 (LSTM)                (100, 10, 128)            126464    \n",
      "_________________________________________________________________\n",
      "lstm_10 (LSTM)               (100, 128)                131584    \n",
      "_________________________________________________________________\n",
      "dense_13 (Dense)             (100, 256)                33024     \n",
      "_________________________________________________________________\n",
      "dense_14 (Dense)             (100, 512)                131584    \n",
      "_________________________________________________________________\n",
      "dense_15 (Dense)             (100, 2027)               1039851   \n",
      "=================================================================\n",
      "Total params: 1,462,507\n",
      "Trainable params: 1,462,507\n",
      "Non-trainable params: 0\n",
      "_________________________________________________________________\n",
      "Epoch 1/20\n",
      "64000/64000 [==============================] - 77s - loss: 3.4466 - acc: 0.3802    \n",
      "Epoch 2/20\n",
      "64000/64000 [==============================] - 76s - loss: 0.9287 - acc: 0.8273    \n",
      "Epoch 3/20\n",
      "64000/64000 [==============================] - 74s - loss: 0.5023 - acc: 0.9103    \n",
      "Epoch 4/20\n",
      "64000/64000 [==============================] - 73s - loss: 0.4266 - acc: 0.9295    \n",
      "Epoch 5/20\n",
      "64000/64000 [==============================] - 73s - loss: 0.3892 - acc: 0.9440    \n",
      "Epoch 6/20\n",
      "64000/64000 [==============================] - 74s - loss: 0.3508 - acc: 0.9522    \n",
      "Epoch 7/20\n",
      "64000/64000 [==============================] - 82s - loss: 0.3477 - acc: 0.9571    \n",
      "Epoch 8/20\n",
      "64000/64000 [==============================] - 78s - loss: 0.3450 - acc: 0.9574    \n",
      "Epoch 9/20\n",
      "64000/64000 [==============================] - 74s - loss: 0.3345 - acc: 0.9577    \n",
      "Epoch 10/20\n",
      "64000/64000 [==============================] - 76s - loss: 0.2632 - acc: 0.9731    \n",
      "Epoch 11/20\n",
      "64000/64000 [==============================] - 78s - loss: 0.2856 - acc: 0.9662    \n",
      "Epoch 12/20\n",
      "64000/64000 [==============================] - 74s - loss: 0.2533 - acc: 0.9747    \n",
      "Epoch 13/20\n",
      "64000/64000 [==============================] - 74s - loss: 0.2180 - acc: 0.9695    \n",
      "Epoch 14/20\n",
      "64000/64000 [==============================] - 74s - loss: 0.1308 - acc: 0.9852    \n",
      "Epoch 15/20\n",
      "64000/64000 [==============================] - 74s - loss: 0.1711 - acc: 0.9737    \n",
      "Epoch 16/20\n",
      "64000/64000 [==============================] - 76s - loss: 0.1157 - acc: 0.9884    \n",
      "Epoch 17/20\n",
      "64000/64000 [==============================] - 76s - loss: 0.1532 - acc: 0.9788    \n",
      "Epoch 18/20\n",
      "64000/64000 [==============================] - 78s - loss: 0.1224 - acc: 0.9869    \n",
      "Epoch 19/20\n",
      "64000/64000 [==============================] - 74s - loss: 0.1309 - acc: 0.9839    \n",
      "Epoch 20/20\n",
      "64000/64000 [==============================] - 74s - loss: 0.2495 - acc: 0.9755    \n",
      "15900/16000 [============================>.] - ETA: 0sBaseline: 97.70% (0.42%)\n"
     ]
    }
   ],
   "source": [
    "results = cross_val_score(estimator, train_X, train_y, cv=kfold)\n",
    "print()\n",
    "print(\"Baseline: %.2f%% (%.2f%%)\" % (results.mean()*100, results.std()*100))"
   ]
  },
  {
   "cell_type": "markdown",
   "metadata": {},
   "source": [
    "### model fit for trainset"
   ]
  },
  {
   "cell_type": "code",
   "execution_count": 1,
   "metadata": {},
   "outputs": [
    {
     "ename": "NameError",
     "evalue": "name 'baseline_model' is not defined",
     "traceback": [
      "\u001b[0;31m---------------------------------------------------------------------------\u001b[0m",
      "\u001b[0;31mNameError\u001b[0m                                 Traceback (most recent call last)",
      "\u001b[0;32m<ipython-input-1-2fe5612d68d6>\u001b[0m in \u001b[0;36m<module>\u001b[0;34m()\u001b[0m\n\u001b[0;32m----> 1\u001b[0;31m \u001b[0mmodel\u001b[0m \u001b[0;34m=\u001b[0m \u001b[0mbaseline_model\u001b[0m\u001b[0;34m(\u001b[0m\u001b[0;34m)\u001b[0m\u001b[0;34m\u001b[0m\u001b[0m\n\u001b[0m\u001b[1;32m      2\u001b[0m \u001b[0;31m#model.fit(train_X,train_y,batch_size=100,epochs=20)\u001b[0m\u001b[0;34m\u001b[0m\u001b[0;34m\u001b[0m\u001b[0m\n",
      "\u001b[0;31mNameError\u001b[0m: name 'baseline_model' is not defined"
     ],
     "output_type": "error"
    }
   ],
   "source": [
    "model = baseline_model()\n",
    "#model.fit(train_X,train_y,batch_size=100,epochs=20)"
   ]
  },
  {
   "cell_type": "markdown",
   "metadata": {},
   "source": [
    "### test result\n",
    "keras prediction batch_size limted by fitting batch_size\n",
    "\n",
    "sol) https://machinelearningmastery.com/use-different-batch-sizes-training-predicting-python-keras/"
   ]
  },
  {
   "cell_type": "code",
   "execution_count": 52,
   "metadata": {},
   "outputs": [
    {
     "name": "stdout",
     "output_type": "stream",
     "text": [
      "20000/20000 [==============================] - 8s     \n"
     ]
    },
    {
     "data": {
      "text/plain": [
       "[0.83427466235219638, 0.94610000431537633]"
      ]
     },
     "execution_count": 52,
     "metadata": {},
     "output_type": "execute_result"
    }
   ],
   "source": [
    "model.evaluate(test_X,test_y,batch_size=100)"
   ]
  },
  {
   "cell_type": "code",
   "execution_count": 55,
   "metadata": {
    "collapsed": true
   },
   "outputs": [],
   "source": [
    "result = model.predict(test_X[:100],batch_size=100)"
   ]
  },
  {
   "cell_type": "code",
   "execution_count": 64,
   "metadata": {},
   "outputs": [
    {
     "data": {
      "text/plain": [
       "326"
      ]
     },
     "execution_count": 64,
     "metadata": {},
     "output_type": "execute_result"
    }
   ],
   "source": [
    "np.argmax(result[1])"
   ]
  },
  {
   "cell_type": "code",
   "execution_count": 65,
   "metadata": {},
   "outputs": [
    {
     "data": {
      "text/plain": [
       "0.99999785"
      ]
     },
     "execution_count": 65,
     "metadata": {},
     "output_type": "execute_result"
    }
   ],
   "source": [
    "result[0][271]"
   ]
  },
  {
   "cell_type": "code",
   "execution_count": 66,
   "metadata": {},
   "outputs": [
    {
     "data": {
      "text/plain": [
       "326"
      ]
     },
     "execution_count": 66,
     "metadata": {},
     "output_type": "execute_result"
    }
   ],
   "source": [
    "np.argmax(test_y[1])"
   ]
  },
  {
   "cell_type": "code",
   "execution_count": null,
   "metadata": {
    "collapsed": true
   },
   "outputs": [],
   "source": []
  }
 ],
 "metadata": {
  "kernelspec": {
   "display_name": "Python 3",
   "language": "python",
   "name": "python3"
  },
  "language_info": {
   "codemirror_mode": {
    "name": "ipython",
    "version": 3
   },
   "file_extension": ".py",
   "mimetype": "text/x-python",
   "name": "python",
   "nbconvert_exporter": "python",
   "pygments_lexer": "ipython3",
   "version": "3.6.1"
  }
 },
 "nbformat": 4,
 "nbformat_minor": 2
}
